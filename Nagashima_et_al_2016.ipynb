{
 "cells": [
  {
   "cell_type": "markdown",
   "metadata": {},
   "source": [
    "# Nagashima et al. 2016を読む\n",
    "## ~ノイズ評価にむけて"
   ]
  },
  {
   "cell_type": "markdown",
   "metadata": {
    "slideshow": {
     "slide_type": "slide"
    }
   },
   "source": [
    "## 概要"
   ]
  },
  {
   "cell_type": "markdown",
   "metadata": {},
   "source": [
    "### 背景(コンテクスト)\n",
    "太陽表面の2点で観測された太陽振動の相互共分散関数は時間-距離日震学の基本的要素である。\n",
    "波の伝播時間はその相互共分散関数関数から取り出され、そして、よく太陽内部の物理状態を引き出す。"
   ]
  },
  {
   "cell_type": "markdown",
   "metadata": {},
   "source": [
    "### 目的\n",
    "2点間の相互共分散関数の統計の理解\n",
    "これは伝播時間の測定の最適化に必要なステップである。"
   ]
  },
  {
   "cell_type": "markdown",
   "metadata": {},
   "source": [
    "### 方法\n",
    "太陽振動をモデル化することにより、２点間の時間(タイムラグ)と距離の関数として、時間距離相互共分散関数の分散を評価した。"
   ]
  },
  {
   "cell_type": "markdown",
   "metadata": {
    "slideshow": {
     "slide_type": "subslide"
    }
   },
   "source": [
    "### 結果\n",
    "時間距離相互共分散関数の分散は、遠いところで、時間(タイムラグ)と距離共に独立である。遠いところというのは、時間(タイムラグ)と距離共が太陽振動のコヒーレンス長に比べて十分大きいときのことである。"
   ]
  },
  {
   "cell_type": "markdown",
   "metadata": {},
   "source": [
    "### 結論\n",
    "相互共分散のノイズレベルが一定というのは、相互共分散のSignal-to-noise ratio が相互共分散の期待値の振幅に比例することを意味する。\n",
    "この観測はデータ解析の計画に重要である。"
   ]
  },
  {
   "cell_type": "markdown",
   "metadata": {
    "slideshow": {
     "slide_type": "slide"
    }
   },
   "source": []
  },
  {
   "cell_type": "code",
   "execution_count": null,
   "metadata": {
    "collapsed": true
   },
   "outputs": [],
   "source": []
  },
  {
   "cell_type": "code",
   "execution_count": null,
   "metadata": {
    "collapsed": true
   },
   "outputs": [],
   "source": []
  }
 ],
 "metadata": {
  "celltoolbar": "Slideshow",
  "kernelspec": {
   "display_name": "Python 3",
   "language": "python",
   "name": "python3"
  },
  "language_info": {
   "codemirror_mode": {
    "name": "ipython",
    "version": 3
   },
   "file_extension": ".py",
   "mimetype": "text/x-python",
   "name": "python",
   "nbconvert_exporter": "python",
   "pygments_lexer": "ipython3",
   "version": "3.6.2"
  }
 },
 "nbformat": 4,
 "nbformat_minor": 2
}
